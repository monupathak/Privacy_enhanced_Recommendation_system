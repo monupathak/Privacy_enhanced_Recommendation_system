{
 "cells": [
  {
   "cell_type": "markdown",
   "id": "3315574b",
   "metadata": {},
   "source": [
    "# P ALS"
   ]
  },
  {
   "cell_type": "code",
   "execution_count": 9,
   "id": "5681389b",
   "metadata": {},
   "outputs": [],
   "source": [
    "\n",
    "import numpy as np\n",
    "import pandas as pd\n",
    "import matplotlib.pyplot as plt"
   ]
  },
  {
   "cell_type": "code",
   "execution_count": 10,
   "id": "6f8f6f7e",
   "metadata": {},
   "outputs": [
    {
     "name": "stdout",
     "output_type": "stream",
     "text": [
      "[[0. 0. 0. ... 0. 0. 0.]\n",
      " [0. 0. 0. ... 0. 0. 0.]\n",
      " [0. 0. 0. ... 0. 0. 0.]\n",
      " ...\n",
      " [0. 0. 0. ... 0. 0. 0.]\n",
      " [0. 0. 0. ... 0. 0. 0.]\n",
      " [0. 0. 0. ... 0. 0. 0.]]\n",
      "(944, 1683)\n"
     ]
    }
   ],
   "source": [
    "\n",
    "\n",
    "import pandas as pd\n",
    "\n",
    "with open('u.data', 'r') as file:\n",
    "    # Read the lines of the file\n",
    "    lines = file.readlines()\n",
    "\n",
    "# Process the lines to create a list of tuples\n",
    "data = []\n",
    "for line in lines:\n",
    "    parts = line.strip().split('\\t')\n",
    "    user_id = int(parts[0])\n",
    "    item_id = int(parts[1])\n",
    "    rating = int(parts[2])\n",
    "    # Skip the timestamp (parts[3])\n",
    "    data.append((user_id, item_id, rating))\n",
    "\n",
    "# Create a DataFrame from the list of tuples\n",
    "df = pd.DataFrame(data, columns=['userId', 'movieId', 'rating'])\n",
    "\n",
    "# Print the first few rows of the DataFrame\n",
    "\n",
    "df['movieId'].max()\n",
    "df['movieId'].min()\n",
    "\n",
    "temp = 1\n",
    "userItem  = np.zeros((df['userId'].max()+1,df['movieId'].max()+1))\n",
    "print(userItem )\n",
    "print(userItem.shape)"
   ]
  },
  {
   "cell_type": "code",
   "execution_count": 11,
   "id": "1ec87def",
   "metadata": {},
   "outputs": [
    {
     "name": "stdout",
     "output_type": "stream",
     "text": [
      "[[0. 0. 0. ... 0. 0. 0.]\n",
      " [0. 5. 3. ... 0. 0. 0.]\n",
      " [0. 4. 0. ... 0. 0. 0.]\n",
      " ...\n",
      " [0. 5. 0. ... 0. 0. 0.]\n",
      " [0. 0. 0. ... 0. 0. 0.]\n",
      " [0. 0. 5. ... 0. 0. 0.]]\n",
      "(944, 1683)\n"
     ]
    }
   ],
   "source": [
    "for i in range (len(df['userId'])):\n",
    "  userItem[df.userId[i]][df.movieId[i]] = df.rating[i]\n",
    "\n",
    "print(userItem)\n",
    "print(userItem.shape)"
   ]
  },
  {
   "cell_type": "code",
   "execution_count": 12,
   "id": "3a6a2672",
   "metadata": {},
   "outputs": [
    {
     "name": "stdout",
     "output_type": "stream",
     "text": [
      "[[0. 5. 3. ... 0. 0. 0.]\n",
      " [0. 4. 0. ... 0. 0. 0.]\n",
      " [0. 0. 0. ... 0. 0. 0.]\n",
      " ...\n",
      " [0. 5. 0. ... 0. 0. 0.]\n",
      " [0. 0. 0. ... 0. 0. 0.]\n",
      " [0. 0. 5. ... 0. 0. 0.]]\n",
      "[[5. 3. 4. ... 0. 0. 0.]\n",
      " [4. 0. 0. ... 0. 0. 0.]\n",
      " [0. 0. 0. ... 0. 0. 0.]\n",
      " ...\n",
      " [5. 0. 0. ... 0. 0. 0.]\n",
      " [0. 0. 0. ... 0. 0. 0.]\n",
      " [0. 5. 0. ... 0. 0. 0.]]\n"
     ]
    }
   ],
   "source": [
    "R = userItem[1:]\n",
    "print(R)\n",
    "R = R[:, 1:]\n",
    "print(R)\n",
    "\n",
    "ep = [2, 4, 6, 8, 10, 12, 14, 16, 18, 20]"
   ]
  },
  {
   "cell_type": "code",
   "execution_count": 13,
   "id": "572f0da6",
   "metadata": {},
   "outputs": [],
   "source": [
    "A = R>0.5; A[A == True] = 1; A[A == False]   = 0; A = A.astype(np.float64, copy=False)\n",
    "\n",
    "    "
   ]
  },
  {
   "cell_type": "code",
   "execution_count": 41,
   "id": "2e7ae2c7",
   "metadata": {},
   "outputs": [],
   "source": [
    "def find_element(matrix, j, element):\n",
    "    # Find indices where element equals 5 in column j\n",
    "    indices = np.where(matrix[:, j] == element)[0]\n",
    "    return indices"
   ]
  },
  {
   "cell_type": "code",
   "execution_count": 58,
   "id": "34fc8c11",
   "metadata": {},
   "outputs": [
    {
     "name": "stdout",
     "output_type": "stream",
     "text": [
      "[  6   7  15  21  37  50  54  55  94 124 129 136 176 212 221 250 266 275\n",
      " 290 291 302 325 331 341 346 351 373 378 393 397 400 415 420 435 446 449\n",
      " 456 465 467 477 486 550 558 561 591 618 621 628 637 653 660 714 737 745\n",
      " 748 795 805 822 830 850 863 879 891 900 901 906 912]\n"
     ]
    }
   ],
   "source": [
    "r = find_element(R,143, 5)\n",
    "print(r)"
   ]
  },
  {
   "cell_type": "code",
   "execution_count": 64,
   "id": "5c9e9c08",
   "metadata": {},
   "outputs": [
    {
     "name": "stdout",
     "output_type": "stream",
     "text": [
      "4.65871180936206\n"
     ]
    }
   ],
   "source": [
    "print(Rcap[50][143])"
   ]
  },
  {
   "cell_type": "code",
   "execution_count": null,
   "id": "2fba3bf5",
   "metadata": {},
   "outputs": [],
   "source": []
  },
  {
   "cell_type": "code",
   "execution_count": 14,
   "id": "567754d5",
   "metadata": {},
   "outputs": [],
   "source": [
    "import matplotlib.pyplot as plt\n",
    "import math\n",
    "\n",
    "\n",
    "\n",
    "def runALS(A, R, n_factors, n_iterations, lambda_):\n",
    "    '''\n",
    "    Runs Alternating Least Squares algorithm in order to calculate matrix.\n",
    "\n",
    "    :param A: User-Item Matrix with ratings\n",
    "    :param R: User-Item Matrix with 1 if there is a rating or 0 if not\n",
    "    :param n_factors: How many factors each of user and item matrix will consider\n",
    "    :param n_iterations: How many times to run algorithm\n",
    "    :param lambda_: Regularization parameter\n",
    "    :return:\n",
    "    '''\n",
    "    print (\"Initiating \")\n",
    "    lambda_ = 0.1; n_factors = 3; n, m = A.shape; n_iterations = 20\n",
    "    Users = 5 * np.random.rand(n, n_factors)\n",
    "    Items = 5 * np.random.rand(n_factors, m)\n",
    "\n",
    "\n",
    "    def get_error(A, Users, Items, R):\n",
    "        # This calculates the MSE of nonzero elements\n",
    "        return math.sqrt(np.sum((R * (A - np.dot(Users, Items))) ** 2) / np.sum(R))\n",
    "\n",
    "    RMSE_List = []\n",
    "\n",
    "    print (\"Starting Iterations\")\n",
    "    for iter in range(n_iterations):\n",
    "        for i, Ri in enumerate(R):\n",
    "            Users[i] = np.linalg.solve(np.dot(Items, np.dot(np.diag(Ri), Items.T)) + lambda_ * np.eye(n_factors),\n",
    "                                       np.dot(Items, np.dot(np.diag(Ri), A[i].T))).T\n",
    "#             print('Users[i]',Users[i])\n",
    "        print (\"Error after solving for User Matrix:\", get_error(A, Users, Items, R))\n",
    "\n",
    "        for j, Rj in enumerate(R.T):\n",
    "            Items[:,j] = np.linalg.solve(np.dot(Users.T, np.dot(np.diag(Rj), Users)) + lambda_ * np.eye(n_factors),\n",
    "                                     np.dot(Users.T, np.dot(np.diag(Rj), A[:, j])))\n",
    "        print (\"Error after solving for Item Matrix:\", get_error(A, Users, Items, R))\n",
    "\n",
    "        RMSE_List.append(get_error(A, Users, Items, R))\n",
    "        print ('%sth iteration is complete...' % iter)\n",
    "        \n",
    "    \n",
    "    return Users,Items,RMSE_List.pop()\n",
    "        \n",
    "\n",
    "   "
   ]
  },
  {
   "cell_type": "code",
   "execution_count": 15,
   "id": "64a93401",
   "metadata": {},
   "outputs": [],
   "source": [
    "# import numpy as np\n",
    "# R = np.array([[1,0,2,1],[4,5,1,0],[4,5,0,5],[4,1,0,6],[4,0,0,5]])\n",
    "# A = R>0.5; A[A == True] = 1; A[A == False]   = 0; A = A.astype(np.float64, copy=False)"
   ]
  },
  {
   "cell_type": "code",
   "execution_count": 16,
   "id": "8e31232b",
   "metadata": {},
   "outputs": [
    {
     "name": "stdout",
     "output_type": "stream",
     "text": [
      "Initiating \n",
      "Starting Iterations\n",
      "Error after solving for User Matrix: 1.5135975338494259\n",
      "Error after solving for Item Matrix: 0.9226465085506693\n",
      "0th iteration is complete...\n",
      "Error after solving for User Matrix: 0.8926472538504971\n",
      "Error after solving for Item Matrix: 0.8835292690986901\n",
      "1th iteration is complete...\n",
      "Error after solving for User Matrix: 0.8779462389572084\n",
      "Error after solving for Item Matrix: 0.8740459376874056\n",
      "2th iteration is complete...\n",
      "Error after solving for User Matrix: 0.8697313749669886\n",
      "Error after solving for Item Matrix: 0.8659790160514612\n",
      "3th iteration is complete...\n",
      "Error after solving for User Matrix: 0.861412016569796\n",
      "Error after solving for Item Matrix: 0.8575570103177342\n",
      "4th iteration is complete...\n",
      "Error after solving for User Matrix: 0.85342056000006\n",
      "Error after solving for Item Matrix: 0.8503115675767781\n",
      "5th iteration is complete...\n",
      "Error after solving for User Matrix: 0.8473118669456599\n",
      "Error after solving for Item Matrix: 0.8453375435213861\n",
      "6th iteration is complete...\n",
      "Error after solving for User Matrix: 0.8434043828914551\n",
      "Error after solving for Item Matrix: 0.8420742874198034\n",
      "7th iteration is complete...\n",
      "Error after solving for User Matrix: 0.8406790043176023\n",
      "Error after solving for Item Matrix: 0.8398067303746072\n",
      "8th iteration is complete...\n",
      "Error after solving for User Matrix: 0.8389245288272181\n",
      "Error after solving for Item Matrix: 0.8384907256837181\n",
      "9th iteration is complete...\n",
      "Error after solving for User Matrix: 0.8379794053980029\n",
      "Error after solving for Item Matrix: 0.8377852570772207\n",
      "10th iteration is complete...\n",
      "Error after solving for User Matrix: 0.8374340052884031\n",
      "Error after solving for Item Matrix: 0.8373341534688951\n",
      "11th iteration is complete...\n",
      "Error after solving for User Matrix: 0.8370584288544698\n",
      "Error after solving for Item Matrix: 0.837002863641007\n",
      "12th iteration is complete...\n",
      "Error after solving for User Matrix: 0.8367680047366188\n",
      "Error after solving for Item Matrix: 0.8367330648151665\n",
      "13th iteration is complete...\n",
      "Error after solving for User Matrix: 0.8365213934926724\n",
      "Error after solving for Item Matrix: 0.8364957021772885\n",
      "14th iteration is complete...\n",
      "Error after solving for User Matrix: 0.8362975873745955\n",
      "Error after solving for Item Matrix: 0.836275339503537\n",
      "15th iteration is complete...\n",
      "Error after solving for User Matrix: 0.8360852628027844\n",
      "Error after solving for Item Matrix: 0.836063044654808\n",
      "16th iteration is complete...\n",
      "Error after solving for User Matrix: 0.8358776160902952\n",
      "Error after solving for Item Matrix: 0.8358533548151275\n",
      "17th iteration is complete...\n",
      "Error after solving for User Matrix: 0.8356709979844693\n",
      "Error after solving for Item Matrix: 0.8356441865567021\n",
      "18th iteration is complete...\n",
      "Error after solving for User Matrix: 0.8354655636774234\n",
      "Error after solving for Item Matrix: 0.835437495440794\n",
      "19th iteration is complete...\n"
     ]
    }
   ],
   "source": [
    "U,I,Rmse = runALS(R,A ,3, 40, 0.06)"
   ]
  },
  {
   "cell_type": "code",
   "execution_count": 17,
   "id": "ae01ecf3",
   "metadata": {},
   "outputs": [
    {
     "name": "stdout",
     "output_type": "stream",
     "text": [
      "(943, 3)\n",
      "(3, 1682)\n",
      "[[3.93198574 3.08712057 3.07152001 ... 1.3349548  2.93271786 2.66078362]\n",
      " [3.81984705 2.88893528 2.7160348  ... 1.701542   2.81393642 2.63207285]\n",
      " [3.51632477 3.06142582 3.08197581 ... 0.64985547 2.5385013  1.83470233]\n",
      " ...\n",
      " [4.375921   3.44202655 3.20470229 ... 1.78653115 3.16169576 2.71787087]\n",
      " [4.50547278 3.80539541 3.35422065 ... 1.70154785 3.0743887  2.07579213]\n",
      " [3.95021903 3.61269917 3.56130943 ... 0.54969909 2.76022941 1.64754302]]\n"
     ]
    }
   ],
   "source": [
    "print(U.shape)\n",
    "print(I.shape)\n",
    "Rcap = U.dot(I)\n",
    "print(Rcap)"
   ]
  },
  {
   "cell_type": "code",
   "execution_count": 18,
   "id": "f09ab955",
   "metadata": {},
   "outputs": [],
   "source": [
    "import numpy as np\n",
    "np.savetxt('Rcap.csv', Rcap, delimiter=',')"
   ]
  },
  {
   "cell_type": "code",
   "execution_count": 19,
   "id": "c2923fd7",
   "metadata": {},
   "outputs": [
    {
     "name": "stdout",
     "output_type": "stream",
     "text": [
      "[[3.93198574 3.08712057 3.07152001 ... 1.3349548  2.93271786 2.66078362]\n",
      " [3.81984705 2.88893528 2.7160348  ... 1.701542   2.81393642 2.63207285]\n",
      " [3.51632477 3.06142582 3.08197581 ... 0.64985547 2.5385013  1.83470233]\n",
      " ...\n",
      " [4.375921   3.44202655 3.20470229 ... 1.78653115 3.16169576 2.71787087]\n",
      " [4.50547278 3.80539541 3.35422065 ... 1.70154785 3.0743887  2.07579213]\n",
      " [3.95021903 3.61269917 3.56130943 ... 0.54969909 2.76022941 1.64754302]]\n"
     ]
    }
   ],
   "source": [
    "import numpy as np\n",
    "\n",
    "# Load the matrix from the CSV file\n",
    "loaded_matrix = np.loadtxt('/home/23m1526/100K/Rcap.csv', delimiter=',')\n",
    "print(loaded_matrix)"
   ]
  },
  {
   "cell_type": "code",
   "execution_count": 20,
   "id": "20b2f407",
   "metadata": {},
   "outputs": [],
   "source": [
    "import numpy as np\n",
    "\n",
    "def predRatings(user_item_matrix, Rcap, j, movies_df):\n",
    "    def non_Rated_movie(user_item_matrix, j):\n",
    "        zero_indices = np.where(user_item_matrix[:, j] == 0)[0]\n",
    "        return zero_indices.tolist()\n",
    "\n",
    "    def store_ratings_sorted(Rcap, zero_indices, j):\n",
    "        ratings_dict = {}\n",
    "        for i in zero_indices:\n",
    "            rating = Rcap[i, j]\n",
    "            ratings_dict[i] = rating\n",
    "        sorted_ratings_dict = dict(sorted(ratings_dict.items(), key=lambda x: x[1], reverse=True))\n",
    "        sorted_ratings_dict = dict(list(sorted_ratings_dict.items())[:20])\n",
    "        return sorted_ratings_dict\n",
    "\n",
    "    def get_movie_names(movies_df, top_20_ratings_dict):\n",
    "        movie_names_dict = {}\n",
    "        for key in top_20_ratings_dict.keys():\n",
    "            movie_id = movies_df.loc[movies_df['movieId'] == key, 'title'].values[0]\n",
    "            movie_names_dict[key] = movie_id\n",
    "        return movie_names_dict\n",
    "\n",
    "    zero_indices = non_Rated_movie(user_item_matrix, j)\n",
    "    top_20_ratings_dict = store_ratings_sorted(Rcap, zero_indices, j)\n",
    "    movie_names_dict = get_movie_names(movies_df, top_20_ratings_dict)\n",
    "\n",
    "    return movie_names_dict"
   ]
  },
  {
   "cell_type": "code",
   "execution_count": 21,
   "id": "8dbc8bd5",
   "metadata": {},
   "outputs": [],
   "source": [
    "import pandas as pd\n",
    "colName = [\"movieId\", \"title\", \"Release Date\", \"Video Release Date\",\n",
    "           \"IMDb URL\", \"Unknown\", \"Action\", \"Adventure\", \"Animation\",\n",
    "           \"Children's\", \"Comedy\", \"Crime\", \"Documentary\", \"Drama\", \"Fantasy\",\n",
    "           \"Film-Noir\", \"Horror\", \"Musical\", \"Mystery\", \"Romance\", \"Sci-Fi\",\n",
    "           \"Thriller\", \"War\", \"Western\"]\n",
    "\n",
    "movies_df = pd.read_csv(\"u.item\", sep=\"|\", encoding=\"iso-8859-1\",  names=colName)\n",
    "movies_df.drop(columns= [\"Release Date\", \"Video Release Date\",\n",
    "           \"IMDb URL\", \"Unknown\", \"Action\", \"Adventure\", \"Animation\",\n",
    "           \"Children's\", \"Comedy\", \"Crime\", \"Documentary\", \"Drama\", \"Fantasy\",\n",
    "           \"Film-Noir\", \"Horror\", \"Musical\", \"Mystery\", \"Romance\", \"Sci-Fi\",\n",
    "           \"Thriller\", \"War\", \"Western\"], inplace=True)"
   ]
  },
  {
   "cell_type": "code",
   "execution_count": 22,
   "id": "5feb8fdd",
   "metadata": {},
   "outputs": [
    {
     "data": {
      "text/html": [
       "<div>\n",
       "<style scoped>\n",
       "    .dataframe tbody tr th:only-of-type {\n",
       "        vertical-align: middle;\n",
       "    }\n",
       "\n",
       "    .dataframe tbody tr th {\n",
       "        vertical-align: top;\n",
       "    }\n",
       "\n",
       "    .dataframe thead th {\n",
       "        text-align: right;\n",
       "    }\n",
       "</style>\n",
       "<table border=\"1\" class=\"dataframe\">\n",
       "  <thead>\n",
       "    <tr style=\"text-align: right;\">\n",
       "      <th></th>\n",
       "      <th>movieId</th>\n",
       "      <th>title</th>\n",
       "    </tr>\n",
       "  </thead>\n",
       "  <tbody>\n",
       "    <tr>\n",
       "      <th>0</th>\n",
       "      <td>1</td>\n",
       "      <td>Toy Story (1995)</td>\n",
       "    </tr>\n",
       "    <tr>\n",
       "      <th>1</th>\n",
       "      <td>2</td>\n",
       "      <td>GoldenEye (1995)</td>\n",
       "    </tr>\n",
       "    <tr>\n",
       "      <th>2</th>\n",
       "      <td>3</td>\n",
       "      <td>Four Rooms (1995)</td>\n",
       "    </tr>\n",
       "    <tr>\n",
       "      <th>3</th>\n",
       "      <td>4</td>\n",
       "      <td>Get Shorty (1995)</td>\n",
       "    </tr>\n",
       "    <tr>\n",
       "      <th>4</th>\n",
       "      <td>5</td>\n",
       "      <td>Copycat (1995)</td>\n",
       "    </tr>\n",
       "    <tr>\n",
       "      <th>...</th>\n",
       "      <td>...</td>\n",
       "      <td>...</td>\n",
       "    </tr>\n",
       "    <tr>\n",
       "      <th>1677</th>\n",
       "      <td>1678</td>\n",
       "      <td>Mat' i syn (1997)</td>\n",
       "    </tr>\n",
       "    <tr>\n",
       "      <th>1678</th>\n",
       "      <td>1679</td>\n",
       "      <td>B. Monkey (1998)</td>\n",
       "    </tr>\n",
       "    <tr>\n",
       "      <th>1679</th>\n",
       "      <td>1680</td>\n",
       "      <td>Sliding Doors (1998)</td>\n",
       "    </tr>\n",
       "    <tr>\n",
       "      <th>1680</th>\n",
       "      <td>1681</td>\n",
       "      <td>You So Crazy (1994)</td>\n",
       "    </tr>\n",
       "    <tr>\n",
       "      <th>1681</th>\n",
       "      <td>1682</td>\n",
       "      <td>Scream of Stone (Schrei aus Stein) (1991)</td>\n",
       "    </tr>\n",
       "  </tbody>\n",
       "</table>\n",
       "<p>1682 rows × 2 columns</p>\n",
       "</div>"
      ],
      "text/plain": [
       "      movieId                                      title\n",
       "0           1                           Toy Story (1995)\n",
       "1           2                           GoldenEye (1995)\n",
       "2           3                          Four Rooms (1995)\n",
       "3           4                          Get Shorty (1995)\n",
       "4           5                             Copycat (1995)\n",
       "...       ...                                        ...\n",
       "1677     1678                          Mat' i syn (1997)\n",
       "1678     1679                           B. Monkey (1998)\n",
       "1679     1680                       Sliding Doors (1998)\n",
       "1680     1681                        You So Crazy (1994)\n",
       "1681     1682  Scream of Stone (Schrei aus Stein) (1991)\n",
       "\n",
       "[1682 rows x 2 columns]"
      ]
     },
     "execution_count": 22,
     "metadata": {},
     "output_type": "execute_result"
    }
   ],
   "source": [
    "movies_df"
   ]
  },
  {
   "cell_type": "code",
   "execution_count": 23,
   "id": "1d22341a",
   "metadata": {},
   "outputs": [],
   "source": [
    "p = predRatings(R,Rcap,253,movies_df)"
   ]
  },
  {
   "cell_type": "code",
   "execution_count": 24,
   "id": "2e20edac",
   "metadata": {},
   "outputs": [
    {
     "data": {
      "text/plain": [
       "{126: 'Spitfire Grill, The (1996)',\n",
       " 426: 'Transformers: The Movie, The (1986)',\n",
       " 506: 'Rebel Without a Cause (1955)',\n",
       " 339: 'Mad City (1997)',\n",
       " 687: \"McHale's Navy (1997)\",\n",
       " 849: 'Days of Thunder (1990)',\n",
       " 810: 'Shadow, The (1994)',\n",
       " 627: 'Robin Hood: Prince of Thieves (1991)',\n",
       " 470: 'Tombstone (1993)',\n",
       " 433: 'Heathers (1989)',\n",
       " 811: 'Thirty-Two Short Films About Glenn Gould (1993)',\n",
       " 848: 'Murder, My Sweet (1944)',\n",
       " 619: 'Extreme Measures (1996)',\n",
       " 211: 'M*A*S*H (1970)',\n",
       " 906: 'Oscar & Lucinda (1997)',\n",
       " 151: 'Willy Wonka and the Chocolate Factory (1971)',\n",
       " 598: 'Big Squeeze, The (1996)',\n",
       " 165: 'Jean de Florette (1986)',\n",
       " 635: 'Fog, The (1980)',\n",
       " 387: 'Age of Innocence, The (1993)'}"
      ]
     },
     "execution_count": 24,
     "metadata": {},
     "output_type": "execute_result"
    }
   ],
   "source": [
    "p"
   ]
  },
  {
   "cell_type": "code",
   "execution_count": 13,
   "id": "d53a4fd3",
   "metadata": {},
   "outputs": [
    {
     "name": "stdout",
     "output_type": "stream",
     "text": [
      "The RMSE for different epsilons are [0.08052301958167798, 0.08052301958167798, 0.08052301958167798, 0.08052301958167798, 0.08052301958167798, 0.08052301958167798, 0.08052301958167798, 0.08052301958167798, 0.08052301958167798, 0.08052301958167798]\n"
     ]
    }
   ],
   "source": [
    "ep = [2, 4, 6, 8, 10, 12, 14, 16, 18, 20]\n",
    "rmse_CALS = []\n",
    "\n",
    "for ep in ep:\n",
    "    rmse_CALS.append(Rmse)\n",
    "\n",
    "print('The RMSE for different epsilons are', rmse_CALS)"
   ]
  },
  {
   "cell_type": "code",
   "execution_count": 1,
   "id": "973ab0c3",
   "metadata": {},
   "outputs": [],
   "source": [
    "import csv\n",
    "\n",
    "rmse_CALS =  [0.8301938214881543, 0.8301938214881543, 0.8301938214881543, 0.8301938214881543,\n",
    "  0.8301938214881543, 0.8301938214881543, 0.8301938214881543, 0.8301938214881543, 0.8301938214881543, 0.8301938214881543]\n",
    "\n",
    "\n",
    "csv_file_path = '/home/23m1526/output2.csv'\n",
    "\n"
   ]
  },
  {
   "cell_type": "code",
   "execution_count": 2,
   "id": "baf814fc",
   "metadata": {},
   "outputs": [],
   "source": [
    "with open(csv_file_path, 'w', newline='') as csv_file:\n",
    "    writer = csv.writer(csv_file)\n",
    "    writer.writerow(['List Name', 'Values'])\n",
    "    writer.writerow(['rmse_CALS'] + rmse_CALS)\n"
   ]
  },
  {
   "cell_type": "code",
   "execution_count": null,
   "id": "885a26d9",
   "metadata": {},
   "outputs": [],
   "source": []
  }
 ],
 "metadata": {
  "kernelspec": {
   "display_name": "Python 3 (ipykernel)",
   "language": "python",
   "name": "python3"
  },
  "language_info": {
   "codemirror_mode": {
    "name": "ipython",
    "version": 3
   },
   "file_extension": ".py",
   "mimetype": "text/x-python",
   "name": "python",
   "nbconvert_exporter": "python",
   "pygments_lexer": "ipython3",
   "version": "3.9.19"
  }
 },
 "nbformat": 4,
 "nbformat_minor": 5
}
