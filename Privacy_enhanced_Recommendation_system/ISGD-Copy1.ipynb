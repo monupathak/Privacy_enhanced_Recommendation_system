{
 "cells": [
  {
   "cell_type": "markdown",
   "id": "be611a56",
   "metadata": {},
   "source": [
    "# Input Perterbation"
   ]
  },
  {
   "cell_type": "code",
   "execution_count": 2,
   "id": "2dfac51d",
   "metadata": {},
   "outputs": [
    {
     "name": "stdout",
     "output_type": "stream",
     "text": [
      "[[0. 0. 0. ... 0. 0. 0.]\n",
      " [0. 0. 0. ... 0. 0. 0.]\n",
      " [0. 0. 0. ... 0. 0. 0.]\n",
      " ...\n",
      " [0. 0. 0. ... 0. 0. 0.]\n",
      " [0. 0. 0. ... 0. 0. 0.]\n",
      " [0. 0. 0. ... 0. 0. 0.]]\n",
      "(944, 1683)\n"
     ]
    }
   ],
   "source": [
    "\n",
    "import numpy as np\n",
    "import pandas as pd\n",
    "import matplotlib.pyplot as plt\n",
    "\n",
    "\n",
    "\n",
    "\n",
    "import pandas as pd\n",
    "\n",
    "with open('/home/23m1526/ua.base', 'r') as file:\n",
    "    # Read the lines of the file\n",
    "    lines = file.readlines()\n",
    "\n",
    "# Process the lines to create a list of tuples\n",
    "data = []\n",
    "for line in lines:\n",
    "    parts = line.strip().split('\\t')\n",
    "    user_id = int(parts[0])\n",
    "    item_id = int(parts[1])\n",
    "    rating = int(parts[2])\n",
    "    # Skip the timestamp (parts[3])\n",
    "    data.append((user_id, item_id, rating))\n",
    "\n",
    "# Create a DataFrame from the list of tuples\n",
    "df = pd.DataFrame(data, columns=['userId', 'movieId', 'rating'])\n",
    "\n",
    "# Print the first few rows of the DataFrame\n",
    "\n",
    "df['movieId'].max()\n",
    "df['movieId'].min()\n",
    "\n",
    "temp = 1\n",
    "userItem  = np.zeros((df['userId'].max()+1,df['movieId'].max()+1))\n",
    "print(userItem )\n",
    "print(userItem.shape)"
   ]
  },
  {
   "cell_type": "code",
   "execution_count": 3,
   "id": "dfa2572e",
   "metadata": {},
   "outputs": [
    {
     "name": "stdout",
     "output_type": "stream",
     "text": [
      "[[0. 0. 0. ... 0. 0. 0.]\n",
      " [0. 5. 3. ... 0. 0. 0.]\n",
      " [0. 4. 0. ... 0. 0. 0.]\n",
      " ...\n",
      " [0. 5. 0. ... 0. 0. 0.]\n",
      " [0. 0. 0. ... 0. 0. 0.]\n",
      " [0. 0. 5. ... 0. 0. 0.]]\n",
      "(944, 1683)\n"
     ]
    }
   ],
   "source": [
    "for i in range (len(df['userId'])):\n",
    "  userItem[df.userId[i]][df.movieId[i]] = df.rating[i]\n",
    "\n",
    "print(userItem)\n",
    "print(userItem.shape)"
   ]
  },
  {
   "cell_type": "code",
   "execution_count": 4,
   "id": "dd036888",
   "metadata": {},
   "outputs": [
    {
     "name": "stdout",
     "output_type": "stream",
     "text": [
      "[[0. 5. 3. ... 0. 0. 0.]\n",
      " [0. 4. 0. ... 0. 0. 0.]\n",
      " [0. 0. 0. ... 0. 0. 0.]\n",
      " ...\n",
      " [0. 5. 0. ... 0. 0. 0.]\n",
      " [0. 0. 0. ... 0. 0. 0.]\n",
      " [0. 0. 5. ... 0. 0. 0.]]\n",
      "[[5. 3. 4. ... 0. 0. 0.]\n",
      " [4. 0. 0. ... 0. 0. 0.]\n",
      " [0. 0. 0. ... 0. 0. 0.]\n",
      " ...\n",
      " [5. 0. 0. ... 0. 0. 0.]\n",
      " [0. 0. 0. ... 0. 0. 0.]\n",
      " [0. 5. 0. ... 0. 0. 0.]]\n"
     ]
    }
   ],
   "source": [
    "R = userItem[1:]\n",
    "print(R)\n",
    "R = R[:, 1:]\n",
    "print(R)\n",
    "\n",
    "ep = [2, 4, 6, 8, 10, 12, 14, 16, 18, 20]"
   ]
  },
  {
   "cell_type": "code",
   "execution_count": 5,
   "id": "97c7680f",
   "metadata": {},
   "outputs": [],
   "source": [
    "A = R>0.5; A[A == True] = 1; A[A == False]   = 0; A = A.astype(np.float64, copy=False)\n"
   ]
  },
  {
   "cell_type": "code",
   "execution_count": 13,
   "id": "00ca2d37",
   "metadata": {},
   "outputs": [],
   "source": [
    "def input_perterbation_sgd(R,A, d, gamma, lambd, epsilon):\n",
    "    k = 50\n",
    "    num_users, num_items = R.shape\n",
    "    P = np.random.rand(num_users, d)\n",
    "    Q = np.random.rand(num_items, d)\n",
    "    R1 = R + np.random.laplace(scale=(4) / epsilon, size=R.shape)\n",
    "    R0 = np.zeros((R.shape))\n",
    "    B =1\n",
    "    for i in range(R.shape[0]):\n",
    "        for j in range (R.shape[1]): \n",
    "            if A[i,j] != 0: R0[i,j ] = R1[i,j]\n",
    "\n",
    "    \n",
    "    R0 = np.clip(R0, -B, B)\n",
    "    # Assuming R is a numpy array, find non-zero (i.e., rated) entries\n",
    "    rated_indices = np.argwhere(R > 0)\n",
    "\n",
    "    for epoch in range(k):\n",
    "        np.random.shuffle(rated_indices)  # Shuffle the observed ratings\n",
    "        for i, j in rated_indices:\n",
    "            e_ui = R[i, j] - np.dot(P[i], Q[j]) \n",
    "       \n",
    "\n",
    "            # Update rule remains the same, but only applied to observed ratings\n",
    "            P[i] += gamma * (e_ui * Q[j] - lambd * P[i])\n",
    "            Q[j] += gamma * (e_ui * P[i] - lambd * Q[j])\n",
    "\n",
    "    return P, Q , P.dot(Q.T)\n"
   ]
  },
  {
   "cell_type": "code",
   "execution_count": 14,
   "id": "37d14d80",
   "metadata": {},
   "outputs": [],
   "source": [
    "p,q, r =  input_perterbation_sgd(R,A, 3,0.01,0.6,  epsilon = 2  )"
   ]
  },
  {
   "cell_type": "code",
   "execution_count": 15,
   "id": "569328a1",
   "metadata": {},
   "outputs": [
    {
     "name": "stdout",
     "output_type": "stream",
     "text": [
      "[[3.30776698 2.71319155 2.59754634 ... 1.6878042  2.74767485 2.47883917]\n",
      " [3.27109245 2.68310819 2.56874653 ... 1.66995303 2.71732374 2.451556  ]\n",
      " [2.83546952 2.3257887  2.2266582  ... 1.44802265 2.35542265 2.12485221]\n",
      " ...\n",
      " [3.45142828 2.83103058 2.7103612  ... 1.76028046 2.86693978 2.58645172]\n",
      " [3.72334858 3.05407081 2.92389746 ... 1.90064016 3.09297545 2.79040042]\n",
      " [3.23513039 2.65361116 2.54050565 ... 1.65096521 2.68739133 2.42455002]]\n"
     ]
    },
    {
     "data": {
      "text/plain": [
       "array([[3.30776698, 2.71319155, 2.59754634, ..., 1.6878042 , 2.74767485,\n",
       "        2.47883917],\n",
       "       [3.27109245, 2.68310819, 2.56874653, ..., 1.66995303, 2.71732374,\n",
       "        2.451556  ],\n",
       "       [2.83546952, 2.3257887 , 2.2266582 , ..., 1.44802265, 2.35542265,\n",
       "        2.12485221],\n",
       "       ...,\n",
       "       [3.45142828, 2.83103058, 2.7103612 , ..., 1.76028046, 2.86693978,\n",
       "        2.58645172],\n",
       "       [3.72334858, 3.05407081, 2.92389746, ..., 1.90064016, 3.09297545,\n",
       "        2.79040042],\n",
       "       [3.23513039, 2.65361116, 2.54050565, ..., 1.65096521, 2.68739133,\n",
       "        2.42455002]])"
      ]
     },
     "execution_count": 15,
     "metadata": {},
     "output_type": "execute_result"
    }
   ],
   "source": [
    "print(r)\n",
    "\n",
    "r"
   ]
  },
  {
   "cell_type": "code",
   "execution_count": null,
   "id": "86cdc985",
   "metadata": {},
   "outputs": [],
   "source": [
    "import math\n",
    "def RMSE(actual, predicted):\n",
    "    err = 0\n",
    "    \n",
    "    count = np.count_nonzero(actual)\n",
    "    for i in range(actual.shape[0]):\n",
    "        for j in range(actual.shape[1]):\n",
    "            if actual[i][j] > 0:\n",
    "                \n",
    "                err += (actual[i][j] - predicted[i][j])**2\n",
    "    \n",
    "    if count == 0: \"error is not calculated therefore count = 0 \"\n",
    "    else : \n",
    "        mse = err/count\n",
    "    rmse = math.sqrt(mse)\n",
    "    \n",
    "    return  rmse\n",
    "    \n",
    "l =RMSE(R,r) \n",
    "print(l)\n",
    "\n",
    "# input_perterbation_sgd(R,A, d, gamma, lambd, epsilon):"
   ]
  },
  {
   "cell_type": "code",
   "execution_count": null,
   "id": "2473795b",
   "metadata": {},
   "outputs": [],
   "source": [
    "ISGD_Rmse = []\n",
    "ep = [2, 4, 6, 8, 10, 12, 14, 16, 18, 20]\n",
    "for _ in (ep):\n",
    "\n",
    "    p,q , r = input_perterbation_sgd(R,A, 3,0.01,0.06,  epsilon = _  )\n",
    "\n",
    "    temp = RMSE(R,r)\n",
    "    ISGD_Rmse.append(temp)"
   ]
  },
  {
   "cell_type": "code",
   "execution_count": null,
   "id": "98ceaaa9",
   "metadata": {},
   "outputs": [],
   "source": []
  },
  {
   "cell_type": "code",
   "execution_count": null,
   "id": "4394d0b1",
   "metadata": {},
   "outputs": [],
   "source": [
    "print(ISGD_Rmse)"
   ]
  },
  {
   "cell_type": "code",
   "execution_count": 39,
   "id": "a9a4969e",
   "metadata": {},
   "outputs": [],
   "source": [
    "import csv\n",
    "\n",
    "\n",
    "\n",
    "csv_file_path = 'output2.csv'\n"
   ]
  },
  {
   "cell_type": "code",
   "execution_count": 42,
   "id": "1c76f094",
   "metadata": {},
   "outputs": [],
   "source": [
    "with open(csv_file_path, 'w', newline='') as csv_file:\n",
    "    writer = csv.writer(csv_file)\n",
    "\n",
    "    writer.writerow(['ISGD_Rmse'] + ISGD_Rmse)"
   ]
  },
  {
   "cell_type": "code",
   "execution_count": null,
   "id": "8210ed4b",
   "metadata": {},
   "outputs": [],
   "source": [
    "\n"
   ]
  },
  {
   "cell_type": "code",
   "execution_count": null,
   "id": "28cb9791",
   "metadata": {},
   "outputs": [],
   "source": []
  },
  {
   "cell_type": "code",
   "execution_count": null,
   "id": "820ac096",
   "metadata": {},
   "outputs": [],
   "source": []
  },
  {
   "cell_type": "code",
   "execution_count": null,
   "id": "ecab33da",
   "metadata": {},
   "outputs": [],
   "source": []
  },
  {
   "cell_type": "code",
   "execution_count": null,
   "id": "67e272be",
   "metadata": {},
   "outputs": [],
   "source": []
  },
  {
   "cell_type": "code",
   "execution_count": null,
   "id": "a37caf07",
   "metadata": {},
   "outputs": [],
   "source": []
  }
 ],
 "metadata": {
  "kernelspec": {
   "display_name": "Python 3 (ipykernel)",
   "language": "python",
   "name": "python3"
  },
  "language_info": {
   "codemirror_mode": {
    "name": "ipython",
    "version": 3
   },
   "file_extension": ".py",
   "mimetype": "text/x-python",
   "name": "python",
   "nbconvert_exporter": "python",
   "pygments_lexer": "ipython3",
   "version": "3.9.19"
  }
 },
 "nbformat": 4,
 "nbformat_minor": 5
}
